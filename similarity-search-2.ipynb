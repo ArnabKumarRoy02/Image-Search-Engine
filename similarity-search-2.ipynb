{
 "cells": [
  {
   "cell_type": "markdown",
   "id": "15d211e6",
   "metadata": {},
   "source": [
    "## Understanding the time it takes to index images and locate the most similar image based on it features\n",
    "\n",
    "For these experiments we will use the features of the Caltech101 dataset.\n",
    "First, let's choose a random image to experiment with. We will be using the same image for all the following experiments."
   ]
  },
  {
   "cell_type": "code",
   "execution_count": 1,
   "id": "44696519",
   "metadata": {},
   "outputs": [],
   "source": [
    "import numpy as np\n",
    "import pickle\n",
    "from tqdm import notebook\n",
    "import random\n",
    "import time\n",
    "from sklearn.manifold import TSNE\n",
    "from sklearn.decomposition import PCA\n",
    "import PIL\n",
    "from PIL import Image\n",
    "from sklearn.neighbors import NearestNeighbors\n",
    "import glob\n",
    "import matplotlib\n",
    "import matplotlib.pyplot as plt\n",
    "import matplotlib.image as mpimg\n",
    "%matplotlib inline"
   ]
  },
  {
   "cell_type": "code",
   "execution_count": 2,
   "id": "33634125",
   "metadata": {},
   "outputs": [],
   "source": [
    "filenames = pickle.load(open('data/filenames-caltech101.pickle', 'rb'))\n",
    "feature_list = pickle.load(open('data/features-caltech101-resnet.pickle', 'rb'))\n",
    "class_ids = pickle.load(open('data/class_ids-caltech101.pickle', 'rb'))"
   ]
  },
  {
   "cell_type": "code",
   "execution_count": 3,
   "id": "eb4e892d",
   "metadata": {},
   "outputs": [
    {
     "name": "stdout",
     "output_type": "stream",
     "text": [
      "Number of images:  8677\n",
      "Number of features per image:  2048\n"
     ]
    }
   ],
   "source": [
    "num_images = len(filenames)\n",
    "num_features_per_image = len(feature_list[0])\n",
    "print(\"Number of images: \", num_images)\n",
    "print(\"Number of features per image: \", num_features_per_image)"
   ]
  },
  {
   "cell_type": "code",
   "execution_count": 4,
   "id": "fa794a4c",
   "metadata": {},
   "outputs": [],
   "source": [
    "random_image_index = random.randint(0, num_images)"
   ]
  },
  {
   "cell_type": "markdown",
   "id": "c94ba91d",
   "metadata": {},
   "source": [
    "# Standard features\n",
    "\n",
    "The following experiments are based on the ResNet-50 features derived from the images of the Caltech101 dataset.\n",
    "\n",
    "## Standard features + Brute Force Algorithm on one image\n",
    "\n",
    "We will be timing the indexing for various Nearest Neighbors algorithms, so let's start with timing the indexing for the Brute force algorithm."
   ]
  },
  {
   "cell_type": "code",
   "execution_count": 5,
   "id": "f991d7b9",
   "metadata": {},
   "outputs": [
    {
     "name": "stdout",
     "output_type": "stream",
     "text": [
      "2.82 ms ± 22.1 µs per loop (mean ± std. dev. of 7 runs, 100 loops each)\n"
     ]
    }
   ],
   "source": [
    "%timeit NearestNeighbors(n_neighbors=5, algorithm='brute', metric='euclidean').fit(feature_list)\n",
    "neighbors = NearestNeighbors(n_neighbors=5,\n",
    "                             algorithm='brute',\n",
    "                             metric='euclidean').fit(feature_list)"
   ]
  },
  {
   "cell_type": "markdown",
   "id": "fc3ccdae",
   "metadata": {},
   "source": [
    "Now, let's look at the time it takes to search for the nearest neighbors for the selected random image using the trained model with the Brute force algorithm."
   ]
  },
  {
   "cell_type": "code",
   "execution_count": 6,
   "id": "232ab0ea",
   "metadata": {},
   "outputs": [
    {
     "name": "stdout",
     "output_type": "stream",
     "text": [
      "11.3 ms ± 617 µs per loop (mean ± std. dev. of 7 runs, 100 loops each)\n"
     ]
    }
   ],
   "source": [
    "%timeit neighbors.kneighbors([feature_list[random_image_index]])"
   ]
  },
  {
   "cell_type": "markdown",
   "id": "9c0889f8",
   "metadata": {},
   "source": [
    "## Standard features + k-d Tree Algorithm on one image\n",
    "\n",
    "Now let's turn our attention to the next nearest neighbors algoritm, the k-d tree. Let's time the indexing for the k-d tree algorithm."
   ]
  },
  {
   "cell_type": "code",
   "execution_count": 10,
   "id": "ef1cca40",
   "metadata": {},
   "outputs": [
    {
     "name": "stdout",
     "output_type": "stream",
     "text": [
      "354 ms ± 1.53 ms per loop (mean ± std. dev. of 7 runs, 1 loop each)\n"
     ]
    }
   ],
   "source": [
    "%timeit NearestNeighbors(n_neighbors=5, algorithm='kd_tree').fit(feature_list)\n",
    "neighbors = NearestNeighbors(n_neighbors=5, \n",
    "                             algorithm='kd_tree').fit(feature_list)"
   ]
  },
  {
   "cell_type": "markdown",
   "id": "29615d81",
   "metadata": {},
   "source": [
    "Now, time the search for the same random image using the k-d tree trained model."
   ]
  },
  {
   "cell_type": "code",
   "execution_count": 11,
   "id": "ca6e710a",
   "metadata": {},
   "outputs": [
    {
     "name": "stdout",
     "output_type": "stream",
     "text": [
      "19.1 ms ± 41.4 µs per loop (mean ± std. dev. of 7 runs, 10 loops each)\n"
     ]
    }
   ],
   "source": [
    "%timeit neighbors.kneighbors([feature_list[random_image_index]])"
   ]
  },
  {
   "cell_type": "markdown",
   "id": "ffacfda4",
   "metadata": {},
   "source": [
    "## Standard features + Ball Tree Algorithm on one image\n",
    "\n",
    "Finally, it's time for our last nearest neighbors algorithm - the Ball Tree algorithm. As before, let's calculate the time it takes to train the model."
   ]
  },
  {
   "cell_type": "code",
   "execution_count": 12,
   "id": "24a0c38f",
   "metadata": {},
   "outputs": [
    {
     "name": "stdout",
     "output_type": "stream",
     "text": [
      "473 ms ± 1.95 ms per loop (mean ± std. dev. of 7 runs, 1 loop each)\n"
     ]
    }
   ],
   "source": [
    "%timeit NearestNeighbors(n_neighbors=5, algorithm='ball_tree').fit(feature_list)\n",
    "neighbors = NearestNeighbors(n_neighbors=5, \n",
    "                             algorithm='ball_tree').fit(feature_list)"
   ]
  },
  {
   "cell_type": "markdown",
   "id": "0dee5b42",
   "metadata": {},
   "source": [
    "As before, let's time the search for the Ball Tree model."
   ]
  },
  {
   "cell_type": "code",
   "execution_count": 13,
   "id": "312dfbf7",
   "metadata": {},
   "outputs": [
    {
     "name": "stdout",
     "output_type": "stream",
     "text": [
      "16.9 ms ± 116 µs per loop (mean ± std. dev. of 7 runs, 100 loops each)\n"
     ]
    }
   ],
   "source": [
    "%timeit neighbors.kneighbors([feature_list[random_image_index]])"
   ]
  },
  {
   "cell_type": "markdown",
   "id": "3efb2479",
   "metadata": {},
   "source": [
    "We will increase the number of our test images so that we can experiment with how the scalability of different nearest neighbors algorithms change. Let's choose a random set of 100 or 1000 images to experiment.\n",
    "\n",
    "Generate a list of images to do the next set of experiment on."
   ]
  },
  {
   "cell_type": "code",
   "execution_count": 14,
   "id": "751ded43",
   "metadata": {},
   "outputs": [],
   "source": [
    "random_image_indices = random.sample(range(0, num_images), 1000)\n",
    "random_feature_list = [\n",
    "    feature_list[each_index] for each_index in random_image_indices\n",
    "]"
   ]
  },
  {
   "cell_type": "markdown",
   "id": "bcaa99b0",
   "metadata": {},
   "source": [
    "## Standard features + Brute Force Algorithm on a set of images\n",
    "\n",
    "Time the search for the Brute force algorithm."
   ]
  },
  {
   "cell_type": "code",
   "execution_count": 15,
   "id": "43cc4627",
   "metadata": {},
   "outputs": [
    {
     "name": "stdout",
     "output_type": "stream",
     "text": [
      "157 ms ± 1.85 ms per loop (mean ± std. dev. of 7 runs, 10 loops each)\n"
     ]
    }
   ],
   "source": [
    "neighbors = NearestNeighbors(n_neighbors=5,\n",
    "                             algorithm='brute',\n",
    "                             metric='euclidean').fit(feature_list)\n",
    "%timeit neighbors.kneighbors(random_feature_list)"
   ]
  },
  {
   "cell_type": "markdown",
   "id": "9dd8659c",
   "metadata": {},
   "source": [
    "## Standard features + k-d Tree Algorithm on a set of images\n",
    "\n",
    "Time the search for the k-d tree algorithm."
   ]
  },
  {
   "cell_type": "code",
   "execution_count": 16,
   "id": "3c9639a9",
   "metadata": {},
   "outputs": [
    {
     "name": "stdout",
     "output_type": "stream",
     "text": [
      "18.9 s ± 28.9 ms per loop (mean ± std. dev. of 7 runs, 1 loop each)\n"
     ]
    }
   ],
   "source": [
    "neighbors = NearestNeighbors(n_neighbors=5,\n",
    "                             algorithm='kd_tree').fit(feature_list)\n",
    "%timeit neighbors.kneighbors(random_feature_list)"
   ]
  },
  {
   "cell_type": "markdown",
   "id": "f1fb3d44",
   "metadata": {},
   "source": [
    "## Standard features + Ball Tree Algorithm on a set of images\n",
    "\n",
    "Time the search for the Ball Tree algorithm."
   ]
  },
  {
   "cell_type": "code",
   "execution_count": null,
   "id": "25c69516",
   "metadata": {},
   "outputs": [],
   "source": [
    "neighbors = NearestNeighbors(n_neighbors=5,\n",
    "                             algorithm='ball_tree').fit(feature_list)\n",
    "%timeit neighbors.kneighbors(random_feature_list)"
   ]
  }
 ],
 "metadata": {
  "kernelspec": {
   "display_name": "Python 3.10 (tensorflow)",
   "language": "python",
   "name": "tensorflow"
  },
  "language_info": {
   "codemirror_mode": {
    "name": "ipython",
    "version": 3
   },
   "file_extension": ".py",
   "mimetype": "text/x-python",
   "name": "python",
   "nbconvert_exporter": "python",
   "pygments_lexer": "ipython3",
   "version": "3.10.11"
  }
 },
 "nbformat": 4,
 "nbformat_minor": 5
}
