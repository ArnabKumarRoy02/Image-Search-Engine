{
 "cells": [
  {
   "cell_type": "markdown",
   "id": "faeaec0d",
   "metadata": {},
   "source": [
    "# Similarity Search\n",
    "\n",
    "## Level 3\n",
    "\n",
    "So far we experimented with different visualization techniques on the results, t-SNE and PCA on the results. Now we will calculate the accuracies of the features obtained from the pretrained and finetuned models."
   ]
  },
  {
   "cell_type": "code",
   "execution_count": 13,
   "id": "b6729dca",
   "metadata": {},
   "outputs": [],
   "source": [
    "import numpy as np\n",
    "import pickle\n",
    "from tqdm import notebook\n",
    "import random\n",
    "import time\n",
    "from sklearn.manifold import TSNE\n",
    "from sklearn.decomposition import PCA\n",
    "import PIL\n",
    "from PIL import Image\n",
    "from sklearn.neighbors import NearestNeighbors\n",
    "import glob\n",
    "import matplotlib\n",
    "import matplotlib.pyplot as plt\n",
    "import matplotlib.image as mpimg\n",
    "%matplotlib inline"
   ]
  },
  {
   "cell_type": "markdown",
   "id": "f151ec46",
   "metadata": {},
   "source": [
    "For these experiments we will use the same features of the Caltech101 dataset that we were using before.\n",
    "\n",
    "Let's utilize the features from the previously trained model."
   ]
  },
  {
   "cell_type": "code",
   "execution_count": 2,
   "id": "15423703",
   "metadata": {},
   "outputs": [
    {
     "name": "stdout",
     "output_type": "stream",
     "text": [
      "Number of images =  8677\n",
      "Number of features per image =  2048\n"
     ]
    }
   ],
   "source": [
    "filenames = pickle.load(open('data/filenames-caltech101.pickle', 'rb'))\n",
    "feature_list = pickle.load(open('data/features-caltech101-resnet.pickle', 'rb'))\n",
    "class_ids = pickle.load(open('data/class_ids-caltech101.pickle', 'rb'))\n",
    "\n",
    "num_images = len(filenames)\n",
    "num_features_per_image = len(feature_list[0])\n",
    "print(\"Number of images = \", num_images)\n",
    "print(\"Number of features per image = \", num_features_per_image)"
   ]
  },
  {
   "cell_type": "markdown",
   "id": "37431684",
   "metadata": {},
   "source": [
    "First, let's make a helper function that calculates the accuracy of the resultant features using the nearest neighbors brute force algorithm."
   ]
  },
  {
   "cell_type": "code",
   "execution_count": 14,
   "id": "28e3ea02",
   "metadata": {},
   "outputs": [],
   "source": [
    "def classname(str):\n",
    "    return str.split('/')[-2]\n",
    "\n",
    "\n",
    "def classname_filename(str):\n",
    "    return str.split('/')[-2] + '/' + str.split('/')[-1]\n",
    "\n",
    "\n",
    "def calculate_accuracy(feature_list):\n",
    "    num_nearest_neighbors = 5\n",
    "    correct_predictions = 0\n",
    "    incorrect_predictions = 0\n",
    "    neighbors = NearestNeighbors(n_neighbors=num_nearest_neighbors,\n",
    "                                 algorithm='brute',\n",
    "                                 metric='euclidean').fit(feature_list)\n",
    "    for i in notebook.tqdm(range(len(feature_list))):\n",
    "        distances, indices = neighbors.kneighbors([feature_list[i]])\n",
    "        for j in range(1, num_nearest_neighbors):\n",
    "            if (classname(filenames[i]) == classname(\n",
    "                    filenames[indices[0][j]])):\n",
    "                correct_predictions += 1\n",
    "            else:\n",
    "                incorrect_predictions += 1\n",
    "    print(\n",
    "        \"Accuracy is \",\n",
    "        round(\n",
    "            100.0 * correct_predictions /\n",
    "            (1.0 * correct_predictions + incorrect_predictions), 2))"
   ]
  },
  {
   "cell_type": "markdown",
   "id": "5bb4cd9b",
   "metadata": {},
   "source": [
    "## 1. Accuracy of Brute Force over Caltech101 features"
   ]
  },
  {
   "cell_type": "code",
   "execution_count": 15,
   "id": "b066e556",
   "metadata": {},
   "outputs": [
    {
     "data": {
      "application/vnd.jupyter.widget-view+json": {
       "model_id": "d14194a1cb524234893ca307d720129b",
       "version_major": 2,
       "version_minor": 0
      },
      "text/plain": [
       "  0%|          | 0/8677 [00:00<?, ?it/s]"
      ]
     },
     "metadata": {},
     "output_type": "display_data"
    },
    {
     "name": "stdout",
     "output_type": "stream",
     "text": [
      "Accuracy is  88.46\n"
     ]
    }
   ],
   "source": [
    "calculate_accuracy(feature_list[:])"
   ]
  },
  {
   "cell_type": "markdown",
   "id": "b32adc34",
   "metadata": {},
   "source": [
    "## 2. Accuracy of Brute Force over the PCA compressed Caltect101 features"
   ]
  },
  {
   "cell_type": "code",
   "execution_count": 16,
   "id": "324a3acc",
   "metadata": {},
   "outputs": [],
   "source": [
    "num_feature_dimensions = 100\n",
    "pca = PCA(n_components=num_feature_dimensions)\n",
    "pca.fit(feature_list)\n",
    "feature_list_compressed = pca.transform(feature_list[:])"
   ]
  },
  {
   "cell_type": "markdown",
   "id": "5595cde5",
   "metadata": {},
   "source": [
    "Let's calculate accuracy over the compressed features."
   ]
  },
  {
   "cell_type": "code",
   "execution_count": 17,
   "id": "b54e3665",
   "metadata": {},
   "outputs": [
    {
     "data": {
      "application/vnd.jupyter.widget-view+json": {
       "model_id": "d75f276371fc4032942f6d5372ae4a52",
       "version_major": 2,
       "version_minor": 0
      },
      "text/plain": [
       "  0%|          | 0/8677 [00:00<?, ?it/s]"
      ]
     },
     "metadata": {},
     "output_type": "display_data"
    },
    {
     "name": "stdout",
     "output_type": "stream",
     "text": [
      "Accuracy is  88.58\n"
     ]
    }
   ],
   "source": [
    "calculate_accuracy(feature_list_compressed[:])"
   ]
  },
  {
   "cell_type": "markdown",
   "id": "776ac034",
   "metadata": {},
   "source": [
    "## 3. Accuracy of Brute Force over the finetuned Caltech101 features"
   ]
  },
  {
   "cell_type": "code",
   "execution_count": 18,
   "id": "2078808d",
   "metadata": {},
   "outputs": [],
   "source": [
    "filenames = pickle.load(open('data/filenames-caltech101.pickle', 'rb'))\n",
    "feature_list = pickle.load(open('data/features-caltech101-resnet-finetuned.pickle', 'rb'))\n",
    "class_ids = pickle.load(open('data/class_ids-caltech101.pickle', 'rb'))"
   ]
  },
  {
   "cell_type": "code",
   "execution_count": 20,
   "id": "db971435",
   "metadata": {},
   "outputs": [
    {
     "name": "stdout",
     "output_type": "stream",
     "text": [
      "Number of images =  8677\n",
      "Number of features per image =  101\n"
     ]
    }
   ],
   "source": [
    "num_images = len(filenames)\n",
    "num_features_per_image = len(feature_list[0])\n",
    "print(\"Number of images = \", num_images)\n",
    "print(\"Number of features per image = \", num_features_per_image)"
   ]
  },
  {
   "cell_type": "code",
   "execution_count": 21,
   "id": "74102803",
   "metadata": {},
   "outputs": [
    {
     "data": {
      "application/vnd.jupyter.widget-view+json": {
       "model_id": "81107ff7dba74e02a1d6d3b99833b30a",
       "version_major": 2,
       "version_minor": 0
      },
      "text/plain": [
       "  0%|          | 0/8677 [00:00<?, ?it/s]"
      ]
     },
     "metadata": {},
     "output_type": "display_data"
    },
    {
     "name": "stdout",
     "output_type": "stream",
     "text": [
      "Accuracy is  89.35\n"
     ]
    }
   ],
   "source": [
    "calculate_accuracy(feature_list[:])"
   ]
  },
  {
   "cell_type": "markdown",
   "id": "4d30410b",
   "metadata": {},
   "source": [
    "## 4. Accuracy of Brute Force over the PCA compressed finetuned Caltech101 features"
   ]
  },
  {
   "cell_type": "code",
   "execution_count": 22,
   "id": "4820d5f4",
   "metadata": {},
   "outputs": [],
   "source": [
    "num_feature_dimensions = 100\n",
    "pca = PCA(n_components=num_feature_dimensions)\n",
    "pca.fit(feature_list)\n",
    "feature_list_compressed = pca.transform(feature_list[:])"
   ]
  },
  {
   "cell_type": "code",
   "execution_count": null,
   "id": "5b445aab",
   "metadata": {},
   "outputs": [
    {
     "data": {
      "application/vnd.jupyter.widget-view+json": {
       "model_id": "2c08d49ead78407d803266824ef4563b",
       "version_major": 2,
       "version_minor": 0
      },
      "text/plain": [
       "  0%|          | 0/8677 [00:00<?, ?it/s]"
      ]
     },
     "metadata": {},
     "output_type": "display_data"
    }
   ],
   "source": [
    "calculate_accuracy(feature_list_compressed[:])"
   ]
  },
  {
   "cell_type": "code",
   "execution_count": null,
   "id": "80c49ba4",
   "metadata": {},
   "outputs": [],
   "source": []
  },
  {
   "cell_type": "code",
   "execution_count": null,
   "id": "8bda6a79",
   "metadata": {},
   "outputs": [],
   "source": []
  }
 ],
 "metadata": {
  "kernelspec": {
   "display_name": "Python 3.10 (tensorflow)",
   "language": "python",
   "name": "tensorflow"
  },
  "language_info": {
   "codemirror_mode": {
    "name": "ipython",
    "version": 3
   },
   "file_extension": ".py",
   "mimetype": "text/x-python",
   "name": "python",
   "nbconvert_exporter": "python",
   "pygments_lexer": "ipython3",
   "version": "3.10.11"
  }
 },
 "nbformat": 4,
 "nbformat_minor": 5
}
